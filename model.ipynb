{
 "cells": [
  {
   "cell_type": "code",
   "execution_count": 2,
   "metadata": {},
   "outputs": [],
   "source": [
    "import cv2\n",
    "import csv\n",
    "import keras \n",
    "import numpy as np \n",
    "from matplotlib import image\n",
    "from keras.layers import Input\n",
    "from keras import layers\n",
    "from keras.layers import Dense\n",
    "from keras.layers import Activation\n",
    "from keras.layers import Flatten\n",
    "from keras.layers import Conv2D\n",
    "from keras.layers import MaxPooling2D\n",
    "from keras.layers import GlobalMaxPooling2D\n",
    "from keras.layers import ZeroPadding2D\n",
    "from keras.layers import AveragePooling2D\n",
    "from keras.layers import GlobalAveragePooling2D\n",
    "from keras.layers import BatchNormalization\n",
    "from keras.layers import Lambda\n",
    "from keras.models import Model\n",
    "from keras.layers import Dropout\n",
    "from keras.regularizers import l2"
   ]
  },
  {
   "cell_type": "code",
   "execution_count": 3,
   "metadata": {},
   "outputs": [
    {
     "name": "stdout",
     "output_type": "stream",
     "text": [
      "(32144, 160, 320, 3)\n",
      "(32144,)\n"
     ]
    }
   ],
   "source": [
    "lines = []\n",
    "with open('data/driving_log.csv') as csvfile:\n",
    "    reader = csv.reader(csvfile)\n",
    "    for line in reader:\n",
    "        lines.append(line)\n",
    "images = []\n",
    "measurements = []\n",
    "for line in lines:\n",
    "    #Read the path from the file\n",
    "    img_center = line[0]\n",
    "    img_left = line[1]\n",
    "    img_right = line[2]\n",
    "    filename_center = img_center.split('/')[-1]\n",
    "    filename_center = 'data/IMG/'+ filename_center\n",
    "    filename_left = img_left.split('/')[-1]\n",
    "    filename_left = 'data/IMG/'+ filename_left\n",
    "    filename_right = img_right.split('/')[-1]\n",
    "    filename_right = 'data/IMG/'+ filename_right\n",
    "    #From image to array\n",
    "    image_center = image.imread(filename_center)\n",
    "    image_left = image.imread(filename_left)\n",
    "    image_right =  image.imread(filename_right)\n",
    "    image_flipped = np.fliplr(image_center)          #Flip image\n",
    "    \n",
    "    images.append(image_center)\n",
    "    images.append(image_left)\n",
    "    images.append(image_right)\n",
    "    images.append(image_flipped)\n",
    "    \n",
    "    #Read angle of rotation from the file\n",
    "    correction = 0.15                                #Image correction from the left and right camera\n",
    "    steering_center = float(line[3])\n",
    "    steering_left = steering_center + correction\n",
    "    steering_right = steering_center - correction\n",
    "    steering_center_fliped = -steering_center\n",
    "    measurements.append(steering_center)\n",
    "    measurements.append(steering_left)\n",
    "    measurements.append(steering_right)\n",
    "    measurements.append(steering_center_fliped)\n",
    "\n",
    "X_train = np.array(images)\n",
    "y_train = np.array(measurements)\n",
    "print(X_train.shape)\n",
    "print(y_train.shape)"
   ]
  },
  {
   "cell_type": "code",
   "execution_count": 4,
   "metadata": {
    "collapsed": true
   },
   "outputs": [],
   "source": [
    "input_shape = (160,320,3)\n",
    "inputs = Input(shape=input_shape)\n",
    "# Crop images\n",
    "x = keras.layers.convolutional.Cropping2D(cropping=((50,20),(0,0)),input_shape = input_shape)(inputs)\n",
    "# Normalize images\n",
    "x = Lambda(lambda x: x / 255.0 - 0.5, input_shape = input_shape)(x)\n",
    "\n",
    "x = Conv2D(24, (5, 5), strides=(2, 2),  activation='relu', kernel_regularizer=l2(0.0001))(x)\n",
    "x = Conv2D(36, (5, 5), strides=(2, 2),  activation='relu', kernel_regularizer=l2(0.0001))(x)\n",
    "x = Conv2D(48, (5, 5), strides=(2, 2),  activation='relu', kernel_regularizer=l2(0.0001))(x)\n",
    "x = Conv2D(64, (3, 3), strides=(1, 1),  activation='relu', kernel_regularizer=l2(0.0001))(x)\n",
    "x = Conv2D(64, (3, 3), strides=(1, 1),  activation='relu', kernel_regularizer=l2(0.0001))(x)\n",
    "x = Flatten()(x)\n",
    "x = Dense(100)(x)\n",
    "x = Dense(50)(x)\n",
    "x = Dropout(0.5)(x)\n",
    "x = Dense(10)(x)\n",
    "x = Dense(1)(x)\n"
   ]
  },
  {
   "cell_type": "code",
   "execution_count": 5,
   "metadata": {},
   "outputs": [
    {
     "name": "stderr",
     "output_type": "stream",
     "text": [
      "c:\\users\\slava\\anaconda3\\envs\\py35\\lib\\site-packages\\ipykernel_launcher.py:5: UserWarning: The `nb_epoch` argument in `fit` has been renamed `epochs`.\n",
      "  \"\"\"\n"
     ]
    },
    {
     "name": "stdout",
     "output_type": "stream",
     "text": [
      "Train on 25715 samples, validate on 6429 samples\n",
      "Epoch 1/5\n",
      "25715/25715 [==============================] - 36s - loss: 0.0214 - acc: 0.2702 - val_loss: 0.0148 - val_acc: 0.2758\n",
      "Epoch 2/5\n",
      "25715/25715 [==============================] - 34s - loss: 0.0142 - acc: 0.2702 - val_loss: 0.0143 - val_acc: 0.2758\n",
      "Epoch 3/5\n",
      "25715/25715 [==============================] - 34s - loss: 0.0130 - acc: 0.2702 - val_loss: 0.0147 - val_acc: 0.2758\n",
      "Epoch 4/5\n",
      "25715/25715 [==============================] - 35s - loss: 0.0125 - acc: 0.2703 - val_loss: 0.0137 - val_acc: 0.2758\n",
      "Epoch 5/5\n",
      "25715/25715 [==============================] - 34s - loss: 0.0122 - acc: 0.2702 - val_loss: 0.0142 - val_acc: 0.2758\n"
     ]
    }
   ],
   "source": [
    "model = Model(inputs, x, name='Nvidia_self')\n",
    "model.compile(loss='mse',\n",
    "              optimizer='Adam',\n",
    "              metrics=['accuracy'])\n",
    "model.fit(X_train, y_train,validation_split = 0.2, shuffle=True, nb_epoch=5)\n",
    "model.save('model.h5')"
   ]
  },
  {
   "cell_type": "code",
   "execution_count": null,
   "metadata": {
    "collapsed": true
   },
   "outputs": [],
   "source": []
  },
  {
   "cell_type": "code",
   "execution_count": null,
   "metadata": {
    "collapsed": true
   },
   "outputs": [],
   "source": []
  }
 ],
 "metadata": {
  "kernelspec": {
   "display_name": "Python 3",
   "language": "python",
   "name": "python3"
  },
  "language_info": {
   "codemirror_mode": {
    "name": "ipython",
    "version": 3
   },
   "file_extension": ".py",
   "mimetype": "text/x-python",
   "name": "python",
   "nbconvert_exporter": "python",
   "pygments_lexer": "ipython3",
   "version": "3.5.3"
  }
 },
 "nbformat": 4,
 "nbformat_minor": 2
}
